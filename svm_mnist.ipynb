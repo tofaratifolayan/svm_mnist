{
 "cells": [
  {
   "cell_type": "markdown",
   "metadata": {},
   "source": [
    "# Lab Assignment 4: Support Vector Machines"
   ]
  },
  {
   "cell_type": "markdown",
   "metadata": {},
   "source": [
    "## Library installation\n",
    "In this assignment we will use the `cvxopt` package, [whose documentation can be found here](https://cvxopt.org/userguide/index.html).\n",
    "\n",
    "We are running version 1.3.2 of `cvxopt`."
   ]
  },
  {
   "cell_type": "code",
   "execution_count": 6,
   "metadata": {},
   "outputs": [
    {
     "name": "stdout",
     "output_type": "stream",
     "text": [
      "Requirement already satisfied: cvxopt in c:\\users\\werer\\.conda\\envs\\engs106_1\\lib\\site-packages (1.3.2)\n"
     ]
    }
   ],
   "source": [
    "!pip install cvxopt"
   ]
  },
  {
   "cell_type": "markdown",
   "metadata": {},
   "source": [
    "### Package Imports"
   ]
  },
  {
   "cell_type": "code",
   "execution_count": 149,
   "metadata": {},
   "outputs": [],
   "source": [
    "## =======================================================\n",
    "## Import Key Packages\n",
    "## =======================================================\n",
    "## Standard Fare\n",
    "import numpy as np\n",
    "from scipy.io import loadmat\n",
    "\n",
    "## CVX Opt\n",
    "import cvxopt\n",
    "import cvxopt.solvers"
   ]
  },
  {
   "cell_type": "markdown",
   "metadata": {},
   "source": [
    "## Accessing the Data\n",
    "You can load the data with `scipy.io.loadmat`, which will return a Python dictionary containing the test and train data and labels."
   ]
  },
  {
   "cell_type": "code",
   "execution_count": 157,
   "metadata": {},
   "outputs": [
    {
     "name": "stdout",
     "output_type": "stream",
     "text": [
      "Test data shape (1000, 784); test data labels shape (1000,)\n",
      "Train data shape (4000, 784); test data labels shape (4000,)\n",
      "Labels used:[0 1 2 3 4 5 6 7 8 9]\n"
     ]
    }
   ],
   "source": [
    "## Create the test set\n",
    "## =======================================================\n",
    "# NOTE: Had to add .flatten() for np.unique to work\n",
    "## =======================================================\n",
    "## Import the Data\n",
    "mnist = loadmat('MNIST.mat')\n",
    "\n",
    "## Create the test set\n",
    "test_samples = mnist['test_samples']\n",
    "test_samples_labels = mnist['test_samples_labels'].flatten()\n",
    "print(f'Test data shape {test_samples.shape}; test data labels shape {test_samples_labels.shape}')\n",
    "\n",
    "## Create the training set\n",
    "train_samples = mnist['train_samples']\n",
    "train_samples_labels = mnist['train_samples_labels'].flatten()\n",
    "print(f'Train data shape {train_samples.shape}; test data labels shape {train_samples_labels.shape}')\n",
    "\n",
    "print(f'Labels used:{np.unique(train_samples_labels)}')"
   ]
  },
  {
   "cell_type": "markdown",
   "metadata": {
    "id": "Lk06Xdaf8EqO"
   },
   "source": [
    "## Task 1:\n",
    "Develop code for training an SVM for binary classification with nonlinear kernels. You'll need to accomodate non-overlapping class distributions. One way to implement this is to maximize (7.32) subject to (7.33) and (7.34) [in Bishop](https://www.microsoft.com/en-us/research/uploads/prod/2006/01/Bishop-Pattern-Recognition-and-Machine-Learning-2006.pdf). It may be helpful to redefine these as matrix operations. Let ${1}\\in\\mathbb{R}^{N\\times 1}$ be the vector whose entries are all 1's. Let $\\mathbf{a}\\in\\mathbb{R}^{N\\times 1}$ have entries $a_i$. Let $\\mathbf{T}\\in\\mathbb{R}^{N\\times N}$ be a diagonal matrix with $\\mathbf{T}_{ii} = t_i$ on the diagonal. Then we can reformulate the objective to be\n",
    "\n",
    "\\begin{equation*}\n",
    "\\begin{aligned}\n",
    "& \\text{maximize}\n",
    "& & \\tilde{L}(\\mathbf{a}) = {1}^{\\mathrm{T}}\\mathbf{a} - \\frac{1}{2} \\mathbf{a}^{\\mathrm{T}} \\mathbf{T}\\mathbf{K} \\mathbf{T}\\mathbf{a} \\\\\n",
    "& \\text{subject to}\n",
    "& & {1}^{\\mathrm{T}} \\mathbf{a} \\preceq C \\\\\n",
    "& & & {1}^{\\mathrm{T}} \\mathbf{a} \\succeq 0 \\\\\n",
    "& & & \\mathbf{a}^{\\mathrm{T}} \\mathbf{t} = 0\n",
    "\\end{aligned}\n",
    "\\end{equation*}\n",
    "\n",
    "The \"$\\preceq$\" symbol here means element-wise comparison. This formulation is very close to what `cvxopt` expects.\n",
    "\n",
    "Hint (`cvxopt` expects the following form):\n",
    "\n",
    "\\begin{equation*}\n",
    "\\begin{aligned}\n",
    "& \\text{minimize}\n",
    "& & \\tilde{L}(\\mathbf{a}) = \\frac{1}{2} \\mathbf{a}^{\\mathrm{T}} \\mathbf{T}\\mathbf{K} \\mathbf{T}\\mathbf{a} - {1}^{\\mathrm{T}}\\mathbf{a} \\\\\n",
    "& \\text{subject to}\n",
    "& & G \\mathbf{a} \\preceq h \\\\\n",
    "& & & {\\mathbf{t}}^{\\mathrm{T}}\\mathbf{a} = 0\n",
    "\\end{aligned}\n",
    "\\end{equation*}\n",
    "\n",
    "where $G$ is an $N\\times N$ identity matrix ontop of $-1$ times an $N\\times N$ identity matrix and $h \\in\\mathbb{R}^{2N}$ where the first $N$ entries are $C$ and the second $N$ enties are $0$.\n",
    "\n",
    "## Task 2:\n",
    "Develop code to predict the $\\{-1,+1\\}$ class for new data. To use the predictive model (7.13) you need to determine $b$, which can be done with (7.37). \n",
    "\n",
    "We have provided some starter code in the cells below"
   ]
  },
  {
   "cell_type": "code",
   "execution_count": 168,
   "metadata": {},
   "outputs": [],
   "source": [
    "def nonlinear_kernel(X, y):\n",
    "  \"\"\"\n",
    "  Implement a nonlinear kernel function. Function parameters will vary depending on kernel function.\n",
    "  Feel free to implement either 'rbf', 'poly' or 'sigmoid'\n",
    "  WARNING: 'rbf' can be quite slow and there exist some approximation methods\n",
    "  Parameters\n",
    "  ----------\n",
    "  X : {array-like, sparse matrix} of shape (n_samples, n_features) or (n_samples, n_samples)\n",
    "    Training vectors, where n_samples is the number of samples and n_features \n",
    "    is the number of features. For kernel=”precomputed”, the expected shape \n",
    "    of X is (n_samples, n_samples).\n",
    "\n",
    "  y : array-like of shape (n_samples,)\n",
    "    Target values (class labels in classification, real numbers in regression).\n",
    "  \"\"\"\n",
    "  c = 1.0\n",
    "  degree = 3.0\n",
    "  # (X^(i) * X^(j) + c)^degree\n",
    "  return (np.dot(X, y.T) + c) ** degree\n",
    "\n",
    "def rbf_kernel(X, Y, gamma=0.05):\n",
    "    pairwise_dists = np.sum(X**2, axis=1).reshape(-1, 1) + np.sum(Y**2, axis=1) - 2 * np.dot(X, Y.T)\n",
    "    return np.exp(-gamma * pairwise_dists)\n"
   ]
  },
  {
   "cell_type": "code",
   "execution_count": 169,
   "metadata": {
    "id": "SxWx3YK_9sBP"
   },
   "outputs": [],
   "source": [
    "class SVM(object):\n",
    "\n",
    "  def __init__(self, kernel=nonlinear_kernel, C=1.0):\n",
    "    \"\"\"\n",
    "    Initialize SVM\n",
    "\n",
    "    Parameters\n",
    "    ----------\n",
    "    kernel : callable\n",
    "      Specifies the kernel type to be used in the algorithm. It is used to pre-compute \n",
    "      the kernel matrix from data matrices; that matrix should be an array \n",
    "      of shape (n_samples, n_samples).\n",
    "    C : float, default=1.0\n",
    "      Regularization parameter. The strength of the regularization is inversely\n",
    "      proportional to C. Must be strictly positive. The penalty is a squared l2\n",
    "      penalty.\n",
    "    \"\"\"\n",
    "    self.kernel = kernel\n",
    "    self.C = C\n",
    "    self.alpha = None\n",
    "    self.support_labels = None\n",
    "    self.support_vectors = None\n",
    "    self.b = 0\n",
    "\n",
    "  def fit(self, X, y):\n",
    "    \"\"\"\n",
    "    Fit the SVM model according to the given training data.\n",
    "\n",
    "    Parameters\n",
    "    ----------\n",
    "    X : {array-like, sparse matrix} of shape (n_samples, n_features) or (n_samples, n_samples)\n",
    "      Training vectors, where n_samples is the number of samples and n_features \n",
    "      is the number of features. For kernel=”precomputed”, the expected shape \n",
    "      of X is (n_samples, n_samples).\n",
    "\n",
    "    y : array-like of shape (n_samples,)\n",
    "      Target values (class labels in classification, real numbers in regression).\n",
    "\n",
    "    Returns\n",
    "    -------\n",
    "    self : object\n",
    "      Fitted estimator.\n",
    "    \"\"\"\n",
    "    # Hint:\n",
    "    # 1. Define Quadratic Programming (QP) parameters. Given a QP optimization \n",
    "    #    problem in standard form, cvxopt is looking for P, q, G, h, A, and b\n",
    "    #    (https://cvxopt.org/userguide/coneprog.html#quadratic-cone-programs).\n",
    "    # 2. Construct the QP, invoke solver (use cvxopt.solvers.qp to maximize the Lagrange (7.32))\n",
    "    # 3. Extract optimal value and solution. cvxopt.solvers.qp(P, q, G, h, A, b)[\"x\"]\n",
    "    #    are the Lagrange multipliers.\n",
    "    \n",
    "    y = y.astype(np.int32)\n",
    "    n_samples, n_features = X.shape\n",
    "    K = self.kernel(X, X)\n",
    "    \n",
    "    cvxopt.solvers.options['show_progress'] = False\n",
    "    \n",
    "    #look at link in 1 above for what P, q, G, h, A and b are\n",
    "    P = cvxopt.matrix(np.outer(y, y) * K)\n",
    "    q = cvxopt.matrix(-np.ones(n_samples))\n",
    "    G = cvxopt.matrix(np.vstack((-np.eye(n_samples), np.eye(n_samples))))\n",
    "    h = cvxopt.matrix(np.hstack((np.zeros(n_samples), self.C * np.ones(n_samples))))\n",
    "    A = cvxopt.matrix(y.astype(np.double), (1, n_samples))\n",
    "    b = cvxopt.matrix(0.0) \n",
    "    \n",
    "    solution = cvxopt.solvers.qp(P, q, G, h, A, b)\n",
    "    alpha = np.ravel(solution['x'])\n",
    "    \n",
    "    sv = alpha > 1e-5\n",
    "    self.alpha = alpha[sv]\n",
    "    self.support_vectors = X[sv]\n",
    "    self.support_labels = y[sv]\n",
    "    \n",
    "    # b = (1/N)(sum(t_n - sum(a_m * t_m * K)))\n",
    "    self.b = np.mean(\n",
    "        # self.support_labels - np.sum(self.alpha[:, None] * self.support_labels[:, None] * K[sv][:, sv], axis=1)\n",
    "        self.support_labels - np.sum(self.alpha * self.support_labels * K[sv][:, sv], axis=1)\n",
    "    ) \n",
    "    \n",
    "    # self.b = np.mean(\n",
    "    #     self.support_labels - np.dot(self.alpha * self.support_labels, K[sv, :][:, sv])\n",
    "    # )  \n",
    "    \n",
    "    return self\n",
    "\n",
    "  def predict(self, X):\n",
    "    \"\"\"\n",
    "    Perform classification on samples in X.\n",
    "\n",
    "    For an one-class model, +1 or -1 is returned.\n",
    "\n",
    "    Parameters\n",
    "    ----------\n",
    "    X : {array-like, sparse matrix} of shape (n_samples, n_features) or (n_samples_test, n_samples_train)\n",
    "\n",
    "    Returns\n",
    "    -------\n",
    "    y_pred : ndarray of shape (n_samples,)\n",
    "      Class labels for samples in X.\n",
    "    \"\"\"\n",
    "    K = self.kernel(X, self.support_vectors)\n",
    "    # return np.sign(np.sum(self.alpha[:, None] * self.support_labels[:, None] * K, axis=0) + self.b)\n",
    "    # print(self.alpha.shape, self.support_labels.shape, K.shape)\n",
    "    # return np.sign(np.sum(self.alpha * self.support_labels * K, axis=1) + self.b)\n",
    "    weighted_support_vectors = self.alpha * self.support_labels\n",
    "    weighted_sum_kernel_values = np.dot(K, weighted_support_vectors)\n",
    "\n",
    "    return np.sign(weighted_sum_kernel_values + self.b)\n",
    "    \n",
    "  def score(self, X, y):\n",
    "    \"\"\"\n",
    "    Return the mean accuracy on the given test data and labels. \n",
    "    \n",
    "    In multi-label classification, this is the subset accuracy which is a harsh \n",
    "    metric since you require for each sample that each label set be correctly \n",
    "    predicted.\n",
    "\n",
    "    Parameters\n",
    "    ----------\n",
    "    X : array-like of shape (n_samples, n_features)\n",
    "      Test samples.\n",
    "    y : array-like of shape (n_samples,) or (n_samples, n_outputs)\n",
    "      True labels for X.\n",
    "\n",
    "    Return\n",
    "    ------\n",
    "    score : float\n",
    "      Mean accuracy of self.predict(X)\n",
    "    \"\"\"\n",
    "    y_pred = self.predict(X)\n",
    "    # return np.mean(y_pred == (y * 2 - 1))  # Convert labels back to match prediction format\n",
    "    return np.mean(y_pred == y)\n"
   ]
  },
  {
   "cell_type": "markdown",
   "metadata": {
    "id": "EPYKRw6w9sRi"
   },
   "source": [
    "## Task 3:\n",
    "Using your implementation, compare multiclass classification performance of two different voting schemes:\n",
    "\n",
    "* one versus rest\n",
    "* one versus one"
   ]
  },
  {
   "cell_type": "code",
   "execution_count": 170,
   "metadata": {
    "id": "_RwZj21p94bv"
   },
   "outputs": [],
   "source": [
    "## Write and Run Your Own Code Here\n",
    "## Please Add Additional Cells as Needed.\n",
    "class OneVsRest:\n",
    "    def __init__(self, C=1.0):\n",
    "        self.C = C\n",
    "        self.models = {}\n",
    "    \n",
    "    def fit(self, X, y):\n",
    "        y = y.astype(np.int32)\n",
    "        self.classes = np.unique(y)\n",
    "        for c in self.classes:\n",
    "            binary_y = np.where(y == c, 1, -1)\n",
    "            model = SVM(C=self.C)\n",
    "            model.fit(X, binary_y)\n",
    "            self.models[c] = model\n",
    "    \n",
    "    def predict(self, X):\n",
    "        # scores = np.zeros((X.shape[0], len(self.classes)))\n",
    "\n",
    "        # for idx, c in enumerate(self.classes):\n",
    "        #     # get decision function values \n",
    "        #     scores[:, idx] = self.models[c].predict(X)\n",
    "        \n",
    "        # return self.classes[np.argmax(scores, axis=1)]\n",
    "        \n",
    "        scores = {c: model.predict(X) for c, model in self.models.items()}\n",
    "        return np.array([max(scores, key=lambda k: scores[k][i]) for i in range(len(X))])\n",
    "    \n",
    "    def score(self, X, y):\n",
    "        y_pred = self.predict(X)\n",
    "        return np.mean(y_pred == y)\n",
    "        # return np.mean(y_pred == (y * 2 - 1))"
   ]
  },
  {
   "cell_type": "code",
   "execution_count": 171,
   "metadata": {},
   "outputs": [],
   "source": [
    "from itertools import combinations\n",
    "from collections import defaultdict\n",
    "\n",
    "class OneVsOne:\n",
    "    def __init__(self, C=1.0):\n",
    "        self.C = C\n",
    "        self.models = {}\n",
    "    \n",
    "    def fit(self, X, y):\n",
    "        y = y.astype(np.int32)\n",
    "        self.classes = np.unique(y)\n",
    "        self.pairs = list(combinations(self.classes, 2))\n",
    "        for (c1, c2) in self.pairs:\n",
    "            mask = (y == c1) | (y == c2)\n",
    "            X_pair = X[mask]\n",
    "            y_pair = np.where(y[mask] == c1, 1, -1)\n",
    "            model = SVM(C=self.C)\n",
    "            model.fit(X_pair, y_pair)\n",
    "            self.models[(c1, c2)] = model\n",
    "    \n",
    "    def predict(self, X):\n",
    "        votes = defaultdict(lambda: np.zeros(X.shape[0]))\n",
    "        for (c1, c2), model in self.models.items():\n",
    "            predictions = model.predict(X)\n",
    "            votes[c1] += (predictions == 1)\n",
    "            votes[c2] += (predictions == -1)\n",
    "        return np.array([max(votes, key=lambda k: votes[k][i]) for i in range(len(X))])\n",
    "        \n",
    "        # # convert votes dict into array (n_samples, n_classes)\n",
    "        # votes_array = np.array([votes[c] for c in self.classes]).T\n",
    "        \n",
    "        # # return class with more votes \n",
    "        # return self.classes[np.argmax(votes_array, axis=1)]\n",
    "    \n",
    "    def score(self, X, y):\n",
    "        y_pred = self.predict(X)\n",
    "        return np.mean(y_pred == y)\n",
    "        # return np.mean(y_pred == (y * 2 - 1))"
   ]
  },
  {
   "cell_type": "code",
   "execution_count": 172,
   "metadata": {},
   "outputs": [
    {
     "name": "stdout",
     "output_type": "stream",
     "text": [
      "\n",
      "Training One-vs-Rest SVM...\n",
      "Evaluating One-vs-Rest SVM...\n",
      "One-vs-Rest SVM Accuracy: 0.9100\n",
      "\n",
      "Training One-vs-One SVM...\n",
      "Evaluating One-vs-One SVM...\n",
      "One-vs-One SVM Accuracy: 0.9430\n"
     ]
    }
   ],
   "source": [
    "# # Train OneVsRest model\n",
    "# ovr = OneVsRest(C=1.0)\n",
    "# ovr.fit(train_samples, train_samples_labels)\n",
    "# ovr_score = ovr.score(test_samples, test_samples_labels)\n",
    "# print(f\"OneVsRest Accuracy: {ovr_score}\")\n",
    "\n",
    "# # Train OneVsOne model\n",
    "# ovo = OneVsOne(C=1.0)\n",
    "# ovo.fit(train_samples, train_samples_labels)\n",
    "# ovo_score = ovo.score(test_samples, test_samples_labels)\n",
    "# print(f\"OneVsOne Accuracy: {ovo_score}\")\n",
    "\n",
    "from sklearn.metrics import accuracy_score\n",
    "\n",
    "# train onevsrest SVM\n",
    "print(\"\\nTraining One-vs-Rest SVM...\")\n",
    "ovr = OneVsRest(C=1.0)\n",
    "ovr.fit(train_samples, train_samples_labels)\n",
    "\n",
    "# evaluate onevsrest SVM\n",
    "print(\"Evaluating One-vs-Rest SVM...\")\n",
    "y_pred_ovr = ovr.predict(test_samples)\n",
    "ovr_score = accuracy_score(test_samples_labels, y_pred_ovr)\n",
    "print(f\"One-vs-Rest SVM Accuracy: {ovr_score:.4f}\")\n",
    "\n",
    "# train onevsone SVM\n",
    "print(\"\\nTraining One-vs-One SVM...\")\n",
    "ovo = OneVsOne(C=1.0)\n",
    "ovo.fit(train_samples, train_samples_labels)\n",
    "\n",
    "# evaluate onevsone SVM\n",
    "print(\"Evaluating One-vs-One SVM...\")\n",
    "y_pred_ovo = ovo.predict(test_samples)\n",
    "ovo_score = accuracy_score(test_samples_labels, y_pred_ovo)\n",
    "print(f\"One-vs-One SVM Accuracy: {ovo_score:.4f}\")"
   ]
  },
  {
   "cell_type": "markdown",
   "metadata": {
    "id": "68yfKC6I93Yr"
   },
   "source": [
    "## Task 4:\n",
    "The parameter $C>0$ controls the tradeoff between the size of the margin and the slack variable penalty. It is analogous to the inverse of a regularization coefficient. Include in your report a brief discussion of how you found an appropriate value.\n",
    "\n",
    "Hint: Try using np.logspace for hyperparameter tuning [[Link]](https://numpy.org/doc/2.1/reference/generated/numpy.logspace.html)"
   ]
  },
  {
   "cell_type": "code",
   "execution_count": 175,
   "metadata": {},
   "outputs": [
    {
     "name": "stdout",
     "output_type": "stream",
     "text": [
      "C = 0.0010, Validation Accuracy = 0.5210\n",
      "C = 0.0100, Validation Accuracy = 0.7680\n",
      "C = 0.1000, Validation Accuracy = 0.8710\n",
      "C = 1.0000, Validation Accuracy = 0.9100\n",
      "C = 10.0000, Validation Accuracy = 0.9090\n",
      "C = 100.0000, Validation Accuracy = 0.9090\n",
      "C = 1000.0000, Validation Accuracy = 0.9090\n",
      "\n",
      "Best C Value: 1.0000 with Accuracy: 0.9100\n"
     ]
    }
   ],
   "source": [
    "# Best C for OneVsRest\n",
    "\n",
    "C_values = np.logspace(-3, 3, num=7)  \n",
    "\n",
    "best_C = None\n",
    "best_accuracy = 0\n",
    "\n",
    "for C in C_values:\n",
    "    # train onevsrest with current C\n",
    "    ovr = OneVsRest(C=C)\n",
    "    ovr.fit(train_samples, train_samples_labels)\n",
    "    \n",
    "    # evaluate on test data\n",
    "    y_pred_val = ovr.predict(test_samples)\n",
    "    accuracy = accuracy_score(test_samples_labels, y_pred_val)\n",
    "\n",
    "    print(f\"C = {C:.4f}, Validation Accuracy = {accuracy:.4f}\")\n",
    "\n",
    "    # set best C value\n",
    "    if accuracy > best_accuracy:\n",
    "        best_accuracy = accuracy\n",
    "        best_C = C\n",
    "\n",
    "print(f\"\\nBest C Value: {best_C:.4f} with Accuracy: {best_accuracy:.4f}\")"
   ]
  },
  {
   "cell_type": "code",
   "execution_count": 176,
   "metadata": {},
   "outputs": [
    {
     "name": "stdout",
     "output_type": "stream",
     "text": [
      "Validation Accuracy = 0.8080\n",
      "Validation Accuracy = 0.8740\n",
      "Validation Accuracy = 0.9250\n",
      "Validation Accuracy = 0.9430\n",
      "Validation Accuracy = 0.9460\n",
      "Validation Accuracy = 0.9460\n",
      "Validation Accuracy = 0.9460\n",
      "\n",
      "Best C Value for One-vs-One SVM: 10.0000 with Accuracy: 0.9460\n"
     ]
    }
   ],
   "source": [
    "# Best C for OneVsOne \n",
    "\n",
    "C_values = np.logspace(-3, 3, num=7) \n",
    "\n",
    "best_C = None\n",
    "best_accuracy = 0\n",
    "\n",
    "for C in C_values:\n",
    "\n",
    "    # train o v o \n",
    "    ovo = OneVsOne(C=C)\n",
    "    ovo.fit(train_samples, train_samples_labels)\n",
    "    \n",
    "    # evaluate on sample set\n",
    "    y_pred_val = ovo.predict(test_samples)\n",
    "    accuracy = accuracy_score(test_samples_labels, y_pred_val)\n",
    "    print(f\"C = {C:.4f}, Validation Accuracy = {accuracy:.4f}\")\n",
    "\n",
    "    # Store the best C value\n",
    "    if accuracy > best_accuracy:\n",
    "        best_accuracy = accuracy\n",
    "        best_C = C\n",
    "\n",
    "print(f\"\\nBest C Value for One-vs-One SVM: {best_C:.4f} with Accuracy: {best_accuracy:.4f}\")"
   ]
  },
  {
   "cell_type": "markdown",
   "metadata": {
    "id": "khtnlC9y-Jeu"
   },
   "source": [
    "## Task 5:\n",
    "In addition to calculating percent accuracy, generate multiclass [confusion matrices](https://en.wikipedia.org/wiki/confusion_matrix) as part of your analysis.\n",
    "\n",
    "Hint: Here, you can use sklearn.metrics.confusion_matrix for simpler computation [[Link]](https://scikit-learn.org/stable/modules/generated/sklearn.metrics.confusion_matrix.html) and ConfusionMatrixDisplay [[Link]](https://scikit-learn.org/stable/modules/generated/sklearn.metrics.ConfusionMatrixDisplay.html)"
   ]
  },
  {
   "cell_type": "code",
   "execution_count": 177,
   "metadata": {
    "id": "XyNW8AAG-UW9"
   },
   "outputs": [
    {
     "name": "stdout",
     "output_type": "stream",
     "text": [
      "\n",
      "Training One-vs-Rest SVM...\n",
      "Evaluating One-vs-Rest SVM...\n",
      "One-vs-Rest SVM Accuracy: 0.9090\n"
     ]
    },
    {
     "data": {
      "text/plain": [
       "<Figure size 800x600 with 0 Axes>"
      ]
     },
     "metadata": {},
     "output_type": "display_data"
    },
    {
     "data": {
      "image/png": "[encoded data removed]",
      "text/plain": [
       "<Figure size 640x480 with 2 Axes>"
      ]
     },
     "metadata": {},
     "output_type": "display_data"
    }
   ],
   "source": [
    "## Write and Run Your Own Code Here\n",
    "## Please Add Additional Cells as Needed.\n",
    "import matplotlib.pyplot as plt\n",
    "from sklearn.metrics import confusion_matrix, ConfusionMatrixDisplay\n",
    "\n",
    "# OneVsRest Confusion MAtrix\n",
    "print(\"\\nTraining One-vs-Rest SVM...\")\n",
    "ovr = OneVsRest(C=best_C)\n",
    "ovr.fit(train_samples, train_samples_labels)\n",
    "\n",
    "print(\"Evaluating One-vs-Rest SVM...\")\n",
    "y_pred_ovr = ovr.predict(test_samples)\n",
    "accuracy_ovr = accuracy_score(test_samples_labels, y_pred_ovr)\n",
    "print(f\"One-vs-Rest SVM Accuracy: {accuracy_ovr:.4f}\")\n",
    "\n",
    "# Generate Confusion Matrix for One-vs-Rest SVM\n",
    "conf_matrix_ovr = confusion_matrix(test_samples_labels, y_pred_ovr)\n",
    "\n",
    "# Display Confusion Matrix\n",
    "plt.figure(figsize=(8, 6))\n",
    "disp_ovr = ConfusionMatrixDisplay(conf_matrix_ovr)\n",
    "disp_ovr.plot(cmap=\"Blues\", values_format=\"d\")\n",
    "plt.title(\"Confusion Matrix - One-vs-Rest SVM\")\n",
    "plt.show()"
   ]
  },
  {
   "cell_type": "code",
   "execution_count": 178,
   "metadata": {},
   "outputs": [
    {
     "name": "stdout",
     "output_type": "stream",
     "text": [
      "\n",
      "Training One-vs-One SVM...\n",
      "Evaluating One-vs-One SVM...\n",
      "One-vs-One SVM Accuracy on Test Data: 0.9460\n"
     ]
    },
    {
     "data": {
      "text/plain": [
       "<Figure size 800x600 with 0 Axes>"
      ]
     },
     "metadata": {},
     "output_type": "display_data"
    },
    {
     "data": {
      "image/png": "[encoded data removed]",
      "text/plain": [
       "<Figure size 640x480 with 2 Axes>"
      ]
     },
     "metadata": {},
     "output_type": "display_data"
    }
   ],
   "source": [
    "# train o v o using the best C value\n",
    "print(\"\\nTraining One-vs-One SVM...\")\n",
    "ovo_svm = OneVsOne(C=best_C)\n",
    "ovo_svm.fit(train_samples, train_samples_labels)\n",
    "\n",
    "# evaluate on test data\n",
    "print(\"Evaluating One-vs-One SVM...\")\n",
    "y_pred_ovo = ovo_svm.predict(test_samples)\n",
    "accuracy_ovo = accuracy_score(test_samples_labels, y_pred_ovo)\n",
    "print(f\"One-vs-One SVM Accuracy on Test Data: {accuracy_ovo:.4f}\")\n",
    "\n",
    "# generate confusion Matrix\n",
    "conf_matrix_ovo = confusion_matrix(test_samples_labels, y_pred_ovo)\n",
    "\n",
    "# diplay\n",
    "plt.figure(figsize=(8, 6))\n",
    "disp_ovo = ConfusionMatrixDisplay(conf_matrix_ovo)\n",
    "disp_ovo.plot(cmap=\"Reds\", values_format=\"d\")\n",
    "plt.title(f\"Confusion Matrix - One-vs-One SVM (C={best_C:.4f})\")\n",
    "plt.show()"
   ]
  },
  {
   "cell_type": "markdown",
   "metadata": {},
   "source": [
    "### What to Submit\n",
    "Please submit the following:\n",
    "\n",
    "1. Completed notebook: `assignment-4.ipynb`, where the output of each cell is clearly displayed.\n",
    "\n",
    "2. A brief write-up that answers the 5 questions posed in this lab and justifies your model. Ensure that any figures you create are accessible and easy to understand."
   ]
  },
  {
   "cell_type": "markdown",
   "metadata": {},
   "source": [
    "In this lab, we implemented a Support Vector Machine (SVM) for binary and multiclass classification using nonlinear kernels. A polynomial kernel of degree 3 was used to capture nonlinear relationships, and the optimization problem was solved using cvxopt. The SVM was extended to multiclass classification using two strategies: One-vs-Rest (OvR) and One-vs-One (OvO). OvR achieved an accuracy of 91%, while OvO performed slightly better at 94%. Hyperparameter tuning for the regularization parameter C identified C = 1.0 as optimal for OvR strategies, and C= 10.0 for OvO, balancing margin size and classification errors.\n",
    "\n",
    "Confusion matrices were generated to analyze model performance, revealing that most classes were correctly classified, with some confusion between visually similar digits (e.g., 4 and 9). These matrices provided valuable insights into areas for improvement. Overall, the SVM demonstrated strong performance on the MNIST dataset, achieving high accuracy and effectively handling multiclass classification.\n",
    "\n",
    "Future work could explore other kernels (e.g., RBF), approximation methods for scalability, and ensemble techniques to further enhance performance. This lab highlighted the versatility and effectiveness of SVMs for complex classification tasks."
   ]
  }
 ],
 "metadata": {
  "colab": {
   "authorship_tag": "ABX9TyN6xvWK6Kjx5ZxD6WXulDDB",
   "collapsed_sections": [],
   "name": "tufts-cs135-spring2022-ps4.ipynb",
   "provenance": []
  },
  "kernelspec": {
   "display_name": "engs106_1",
   "language": "python",
   "name": "python3"
  },
  "language_info": {
   "codemirror_mode": {
    "name": "ipython",
    "version": 3
   },
   "file_extension": ".py",
   "mimetype": "text/x-python",
   "name": "python",
   "nbconvert_exporter": "python",
   "pygments_lexer": "ipython3",
   "version": "3.12.8"
  }
 },
 "nbformat": 4,
 "nbformat_minor": 4
}
